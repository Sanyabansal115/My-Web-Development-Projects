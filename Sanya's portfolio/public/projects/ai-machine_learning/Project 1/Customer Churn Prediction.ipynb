{
 "cells": [
  {
   "cell_type": "markdown",
   "id": "96eab524-1830-4ff7-9e90-798040481b6b",
   "metadata": {},
   "source": [
    "# Project Overview: Customer Churn Prediction 📉\n",
    "\n",
    "### This project focuses on predicting customer churn using historical telecommunications or banking data. By applying machine learning models, we aim to identify customers at high risk of leaving, allowing the company to implement targeted retention strategies."
   ]
  },
  {
   "cell_type": "markdown",
   "id": "bb0f1cd8-23d0-431a-9250-ab91f5f24136",
   "metadata": {},
   "source": [
    "### Project Setup and Data Ingestion"
   ]
  },
  {
   "cell_type": "code",
   "execution_count": 1,
   "id": "a2745be7-c455-4c13-9255-2dd623c1a340",
   "metadata": {},
   "outputs": [],
   "source": [
    "import pandas as pd\n",
    "import numpy as np\n",
    "import matplotlib.pyplot as plt\n",
    "import seaborn as sns\n",
    "from sklearn.model_selection import train_test_split\n",
    "from sklearn.preprocessing import StandardScaler, OneHotEncoder\n",
    "from sklearn.compose import ColumnTransformer\n",
    "from sklearn.pipeline import Pipeline\n",
    "from sklearn.linear_model import LogisticRegression\n",
    "from sklearn.tree import DecisionTreeClassifier\n",
    "from sklearn.metrics import accuracy_score, classification_report, confusion_matrix"
   ]
  },
  {
   "cell_type": "code",
   "execution_count": 2,
   "id": "b3fd069c-20ce-4163-903b-1a4297732840",
   "metadata": {},
   "outputs": [],
   "source": [
    "# Set global display options\n",
    "plt.style.use('seaborn-v0_8-whitegrid')"
   ]
  },
  {
   "cell_type": "code",
   "execution_count": 3,
   "id": "2e93f7c2-f14f-4054-b9fa-a5c3ae224972",
   "metadata": {},
   "outputs": [
    {
     "name": "stdout",
     "output_type": "stream",
     "text": [
      "Data loaded successfully.\n",
      "\n",
      "--- Initial Data Snapshot ---\n",
      "   customerID  gender  SeniorCitizen Partner Dependents  tenure PhoneService  \\\n",
      "0  7590-VHVEG  Female              0     Yes         No       1           No   \n",
      "1  5575-GNVDE    Male              0      No         No      34          Yes   \n",
      "2  3668-QPYBK    Male              0      No         No       2          Yes   \n",
      "3  7795-CFOCW    Male              0      No         No      45           No   \n",
      "4  9237-HQITU  Female              0      No         No       2          Yes   \n",
      "\n",
      "      MultipleLines InternetService OnlineSecurity  ... DeviceProtection  \\\n",
      "0  No phone service             DSL             No  ...               No   \n",
      "1                No             DSL            Yes  ...              Yes   \n",
      "2                No             DSL            Yes  ...               No   \n",
      "3  No phone service             DSL            Yes  ...              Yes   \n",
      "4                No     Fiber optic             No  ...               No   \n",
      "\n",
      "  TechSupport StreamingTV StreamingMovies        Contract PaperlessBilling  \\\n",
      "0          No          No              No  Month-to-month              Yes   \n",
      "1          No          No              No        One year               No   \n",
      "2          No          No              No  Month-to-month              Yes   \n",
      "3         Yes          No              No        One year               No   \n",
      "4          No          No              No  Month-to-month              Yes   \n",
      "\n",
      "               PaymentMethod MonthlyCharges  TotalCharges Churn  \n",
      "0           Electronic check          29.85         29.85    No  \n",
      "1               Mailed check          56.95        1889.5    No  \n",
      "2               Mailed check          53.85        108.15   Yes  \n",
      "3  Bank transfer (automatic)          42.30       1840.75    No  \n",
      "4           Electronic check          70.70        151.65   Yes  \n",
      "\n",
      "[5 rows x 21 columns]\n",
      "\n",
      "--- Churn Distribution ---\n",
      "Churn\n",
      "No     0.73463\n",
      "Yes    0.26537\n",
      "Name: proportion, dtype: float64\n"
     ]
    }
   ],
   "source": [
    "# Load the data (assuming 'WA_Fn-UseC_-Telco-Customer-Churn.csv' is used)\n",
    "try:\n",
    "    df = pd.read_csv('Telco-Customer-Churn.csv')\n",
    "    print(\"Data loaded successfully.\")\n",
    "    print(\"\\n--- Initial Data Snapshot ---\")\n",
    "    print(df.head())\n",
    "    print(\"\\n--- Churn Distribution ---\")\n",
    "    print(df['Churn'].value_counts(normalize=True))\n",
    "except FileNotFoundError:\n",
    "    print(\"ERROR: CSV file not found. Please obtain a suitable churn dataset (e.g., Telco Churn from Kaggle).\")\n",
    "    exit()"
   ]
  },
  {
   "cell_type": "markdown",
   "id": "508cf8dd-86e3-4c56-b63a-0a575a7cca02",
   "metadata": {},
   "source": [
    "### Data Cleaning and Feature Engineering"
   ]
  },
  {
   "cell_type": "markdown",
   "id": "cb394a0f-7e72-4c31-be9c-66e6f61a67fa",
   "metadata": {},
   "source": [
    "##### Data Cleaning and Type Correction\n",
    "The 'TotalCharges' column is often loaded as a string due to empty spaces, which represent missing values."
   ]
  },
  {
   "cell_type": "code",
   "execution_count": 4,
   "id": "c41bf5c7-170e-4f79-af09-2124deb96535",
   "metadata": {},
   "outputs": [],
   "source": [
    "# 'customerID' is an identifier, not a feature\n",
    "df.drop('customerID', axis=1, inplace=True)"
   ]
  },
  {
   "cell_type": "code",
   "execution_count": 5,
   "id": "afcfcebe-7b2a-43e3-85a5-94c5d6965798",
   "metadata": {},
   "outputs": [],
   "source": [
    "# Correct 'TotalCharges' type and handle missing values\n",
    "# Replace spaces with NaN, then convert to numeric\n",
    "df['TotalCharges'] = df['TotalCharges'].replace(' ', np.nan)\n",
    "df.dropna(subset=['TotalCharges'], inplace=True)\n",
    "df['TotalCharges'] = pd.to_numeric(df['TotalCharges'])"
   ]
  },
  {
   "cell_type": "code",
   "execution_count": 6,
   "id": "8a48f689-83cc-4116-8878-4245b1d9d47b",
   "metadata": {},
   "outputs": [
    {
     "name": "stdout",
     "output_type": "stream",
     "text": [
      "\n",
      "Rows after cleaning: 7032\n"
     ]
    }
   ],
   "source": [
    "# Convert the target variable 'Churn' to a binary integer (0 or 1)\n",
    "df['Churn'] = df['Churn'].map({'Yes': 1, 'No': 0})\n",
    "print(f\"\\nRows after cleaning: {len(df)}\")"
   ]
  },
  {
   "cell_type": "markdown",
   "id": "7b2d3112-11f0-45f5-bc4f-90fc327b1543",
   "metadata": {},
   "source": [
    "We separate features (X) from the target (y) and split the data into training and testing sets."
   ]
  },
  {
   "cell_type": "code",
   "execution_count": 7,
   "id": "dcddc237-41cf-4548-8860-9799bf80ed1e",
   "metadata": {},
   "outputs": [
    {
     "name": "stdout",
     "output_type": "stream",
     "text": [
      "Training set size: 5625\n",
      "Testing set size: 1407\n"
     ]
    }
   ],
   "source": [
    "# Separate features (X) and target (y)\n",
    "X = df.drop('Churn', axis=1)\n",
    "y = df['Churn']\n",
    "\n",
    "# Split data: 80% for training, 20% for testing\n",
    "X_train, X_test, y_train, y_test = train_test_split(\n",
    "    X, y, test_size=0.2, random_state=42, stratify=y\n",
    ")\n",
    "\n",
    "print(f\"Training set size: {len(X_train)}\")\n",
    "print(f\"Testing set size: {len(X_test)}\")"
   ]
  },
  {
   "cell_type": "markdown",
   "id": "ea94d5da-e820-4938-9b57-59381c71c316",
   "metadata": {},
   "source": [
    "We define which columns are categorical (to be One-Hot Encoded) and which are numerical (to be Scaled). This is crucial for models like Logistic Regression."
   ]
  },
  {
   "cell_type": "code",
   "execution_count": 8,
   "id": "ad358950-2525-4ecd-9de0-d8283ab72e8b",
   "metadata": {},
   "outputs": [],
   "source": [
    "# Identify column types\n",
    "numerical_features = X.select_dtypes(include=np.number).columns.tolist()\n",
    "categorical_features = X.select_dtypes(include='object').columns.tolist()"
   ]
  },
  {
   "cell_type": "code",
   "execution_count": 9,
   "id": "1b442595-cb69-439a-997d-99e4e330ee69",
   "metadata": {},
   "outputs": [],
   "source": [
    "# Create preprocessing transformers\n",
    "numerical_transformer = StandardScaler() # Standardize numerical features\n",
    "categorical_transformer = OneHotEncoder(handle_unknown='ignore') # Encode categorical features"
   ]
  },
  {
   "cell_type": "code",
   "execution_count": 13,
   "id": "f26f2de9-7c3e-4ffe-9a0b-23354c6df9c7",
   "metadata": {},
   "outputs": [
    {
     "name": "stdout",
     "output_type": "stream",
     "text": [
      "\n",
      "--- Preprocessing Pipeline Defined ---\n"
     ]
    }
   ],
   "source": [
    "# Combine transformers into a ColumnTransformer\n",
    "preprocessor = ColumnTransformer(\n",
    "    transformers=[\n",
    "        ('num', numerical_transformer, numerical_features),\n",
    "        ('cat', categorical_transformer, categorical_features)\n",
    "    ],\n",
    "    remainder='passthrough'\n",
    ")\n",
    "print(\"\\n--- Preprocessing Pipeline Defined ---\")"
   ]
  },
  {
   "cell_type": "markdown",
   "id": "6016a360-c4b9-4b6b-889d-57f69eb66aaf",
   "metadata": {},
   "source": [
    "### Model Building and Evaluation\n"
   ]
  },
  {
   "cell_type": "markdown",
   "id": "69a80bfc-c362-4916-99dc-f4067598f916",
   "metadata": {},
   "source": [
    "##### Model 1 - Logistic Regression\n",
    "Logistic Regression is a strong baseline model, especially sensitive to feature scaling."
   ]
  },
  {
   "cell_type": "code",
   "execution_count": 15,
   "id": "01e74c84-9822-425e-aaff-5ad7d807ecaf",
   "metadata": {},
   "outputs": [
    {
     "name": "stdout",
     "output_type": "stream",
     "text": [
      "\n",
      "--- Model 1: Logistic Regression Results ---\n",
      "Accuracy: 0.8038\n",
      "Classification Report:\n",
      "               precision    recall  f1-score   support\n",
      "\n",
      "           0       0.85      0.89      0.87      1033\n",
      "           1       0.65      0.57      0.61       374\n",
      "\n",
      "    accuracy                           0.80      1407\n",
      "   macro avg       0.75      0.73      0.74      1407\n",
      "weighted avg       0.80      0.80      0.80      1407\n",
      "\n",
      "Confusion Matrix:\n",
      " [[917 116]\n",
      " [160 214]]\n"
     ]
    }
   ],
   "source": [
    "# Create the Logistic Regression Pipeline\n",
    "logreg_pipeline = Pipeline(steps=[\n",
    "    ('preprocessor', preprocessor),\n",
    "    ('classifier', LogisticRegression(solver='liblinear', random_state=42))\n",
    "])\n",
    "\n",
    "# Train the model\n",
    "logreg_pipeline.fit(X_train, y_train)\n",
    "\n",
    "# Predict and Evaluate\n",
    "y_pred_logreg = logreg_pipeline.predict(X_test)\n",
    "accuracy_logreg = accuracy_score(y_test, y_pred_logreg)\n",
    "\n",
    "# Displaying\n",
    "print(\"\\n--- Model 1: Logistic Regression Results ---\")\n",
    "print(f\"Accuracy: {accuracy_logreg:,.4f}\")\n",
    "print(\"Classification Report:\\n\", classification_report(y_test, y_pred_logreg))\n",
    "print(\"Confusion Matrix:\\n\", confusion_matrix(y_test, y_pred_logreg))"
   ]
  },
  {
   "cell_type": "markdown",
   "id": "b017ad1c-5355-46aa-a256-315574f8e007",
   "metadata": {},
   "source": [
    "##### Model 2 - Decision Tree Classifier\n",
    "A Decision Tree provides a non-linear, interpretable model. We limit its depth to prevent overfitting."
   ]
  },
  {
   "cell_type": "code",
   "execution_count": 16,
   "id": "1d8eaa7c-ae03-4bf4-ac24-17394f8b1b1d",
   "metadata": {},
   "outputs": [
    {
     "name": "stdout",
     "output_type": "stream",
     "text": [
      "\n",
      "--- Model 2: Decision Tree Results ---\n",
      "Accuracy: 0.7896\n",
      "Classification Report:\n",
      "               precision    recall  f1-score   support\n",
      "\n",
      "           0       0.86      0.85      0.86      1033\n",
      "           1       0.60      0.61      0.61       374\n",
      "\n",
      "    accuracy                           0.79      1407\n",
      "   macro avg       0.73      0.73      0.73      1407\n",
      "weighted avg       0.79      0.79      0.79      1407\n",
      "\n",
      "Confusion Matrix:\n",
      " [[881 152]\n",
      " [144 230]]\n"
     ]
    }
   ],
   "source": [
    "# Create the Decision Tree Pipeline\n",
    "dtree_pipeline = Pipeline(steps=[\n",
    "    ('preprocessor', preprocessor),\n",
    "    ('classifier', DecisionTreeClassifier(max_depth=5, random_state=42))\n",
    "])\n",
    "\n",
    "# Train the model\n",
    "dtree_pipeline.fit(X_train, y_train)\n",
    "\n",
    "# Predict and Evaluate\n",
    "y_pred_dtree = dtree_pipeline.predict(X_test)\n",
    "accuracy_dtree = accuracy_score(y_test, y_pred_dtree)\n",
    "\n",
    "# Displaying\n",
    "print(\"\\n--- Model 2: Decision Tree Results ---\")\n",
    "print(f\"Accuracy: {accuracy_dtree:,.4f}\")\n",
    "print(\"Classification Report:\\n\", classification_report(y_test, y_pred_dtree))\n",
    "print(\"Confusion Matrix:\\n\", confusion_matrix(y_test, y_pred_dtree))"
   ]
  },
  {
   "cell_type": "markdown",
   "id": "042875d7-4dfd-4633-a2fe-33cd4fa9f67c",
   "metadata": {},
   "source": [
    "##### Analyzing Logistic Regression Coefficients\n",
    "For Logistic Regression, the magnitude and sign of the coefficients indicate the impact on churn probability."
   ]
  },
  {
   "cell_type": "code",
   "execution_count": 17,
   "id": "618649cc-f94a-43f4-8d76-988b7d23f766",
   "metadata": {},
   "outputs": [
    {
     "name": "stdout",
     "output_type": "stream",
     "text": [
      "\n",
      "--- Top 10 Features Driving CHURN (Positive Coefficient) ---\n",
      "                                Feature  Coefficient\n",
      "3                     num__TotalCharges     0.640922\n",
      "36         cat__Contract_Month-to-month     0.601468\n",
      "16     cat__InternetService_Fiber optic     0.558548\n",
      "43  cat__PaymentMethod_Electronic check     0.171924\n",
      "32                 cat__StreamingTV_Yes     0.170074\n",
      "35             cat__StreamingMovies_Yes     0.156036\n",
      "18               cat__OnlineSecurity_No     0.152477\n",
      "27                  cat__TechSupport_No     0.131335\n",
      "14               cat__MultipleLines_Yes     0.071819\n",
      "0                    num__SeniorCitizen     0.071338\n",
      "\n",
      "--- Top 10 Features Preventing CHURN (Negative Coefficient) ---\n",
      "                                      Feature  Coefficient\n",
      "1                                 num__tenure    -1.349386\n",
      "38                     cat__Contract_Two year    -0.785987\n",
      "15                   cat__InternetService_DSL    -0.614660\n",
      "2                         num__MonthlyCharges    -0.503458\n",
      "39                   cat__PaperlessBilling_No    -0.318278\n",
      "12                      cat__MultipleLines_No    -0.304254\n",
      "22      cat__OnlineBackup_No internet service    -0.288752\n",
      "17                    cat__InternetService_No    -0.288752\n",
      "25  cat__DeviceProtection_No internet service    -0.288752\n",
      "28       cat__TechSupport_No internet service    -0.288752\n"
     ]
    }
   ],
   "source": [
    "# Get feature names after one-hot encoding\n",
    "feature_names = logreg_pipeline['preprocessor'].get_feature_names_out()\n",
    "\n",
    "# Get coefficients from the trained model\n",
    "coefficients = logreg_pipeline['classifier'].coef_[0]\n",
    "\n",
    "# Create a DataFrame for easy viewing\n",
    "feature_importance_logreg = pd.DataFrame({\n",
    "    'Feature': feature_names,\n",
    "    'Coefficient': coefficients\n",
    "}).sort_values(by='Coefficient', ascending=False)\n",
    "\n",
    "print(\"\\n--- Top 10 Features Driving CHURN (Positive Coefficient) ---\")\n",
    "print(feature_importance_logreg.head(10))\n",
    "\n",
    "print(\"\\n--- Top 10 Features Preventing CHURN (Negative Coefficient) ---\")\n",
    "print(feature_importance_logreg.tail(10).iloc[::-1])"
   ]
  },
  {
   "cell_type": "markdown",
   "id": "87388f77-9f8a-4a17-a9e4-c4ee033c2c7e",
   "metadata": {},
   "source": [
    "## Interpretation Key:\n",
    "\n",
    "1. Positive Coefficient: Increases the log-odds of a customer churning (e.g., higher MonthlyCharges).\n",
    "\n",
    "2. Negative Coefficient: Decreases the log-odds of a customer churning (e.g., higher tenure)."
   ]
  }
 ],
 "metadata": {
  "kernelspec": {
   "display_name": "Python 3 (ipykernel)",
   "language": "python",
   "name": "python3"
  },
  "language_info": {
   "codemirror_mode": {
    "name": "ipython",
    "version": 3
   },
   "file_extension": ".py",
   "mimetype": "text/x-python",
   "name": "python",
   "nbconvert_exporter": "python",
   "pygments_lexer": "ipython3",
   "version": "3.12.3"
  }
 },
 "nbformat": 4,
 "nbformat_minor": 5
}
